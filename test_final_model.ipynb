{
 "cells": [
  {
   "cell_type": "code",
   "execution_count": 22,
   "metadata": {},
   "outputs": [],
   "source": [
    "from model import FaceRec\n",
    "from sklearn.datasets import fetch_lfw_people\n",
    "from PIL import Image, ImageFilter\n",
    "import matplotlib.pyplot as plt\n",
    "import numpy as np"
   ]
  },
  {
   "cell_type": "code",
   "execution_count": 4,
   "metadata": {},
   "outputs": [],
   "source": [
    "CKPT_LOCATION = 'checkpoints/c1s_9_c2n_64_rs_1_c2s_6_c2d_0.7_lr_0.0001_c2vl_32_c1n_256_c1vl_16_c1s_5_c1nf_16--FaceRec--1522700434.769402'"
   ]
  },
  {
   "cell_type": "code",
   "execution_count": 5,
   "metadata": {},
   "outputs": [
    {
     "name": "stderr",
     "output_type": "stream",
     "text": [
      "ModelBase::Loading ckpt ...\n"
     ]
    },
    {
     "name": "stdout",
     "output_type": "stream",
     "text": [
      "WARNING:tensorflow:The saved meta_graph is possibly from an older release:\n",
      "'model_variables' collection should be of type 'byte_list', but instead is of type 'node_list'.\n"
     ]
    },
    {
     "name": "stderr",
     "output_type": "stream",
     "text": [
      "The saved meta_graph is possibly from an older release:\n",
      "'model_variables' collection should be of type 'byte_list', but instead is of type 'node_list'.\n"
     ]
    },
    {
     "name": "stdout",
     "output_type": "stream",
     "text": [
      "INFO:tensorflow:Restoring parameters from checkpoints/c1s_9_c2n_64_rs_1_c2s_6_c2d_0.7_lr_0.0001_c2vl_32_c1n_256_c1vl_16_c1s_5_c1nf_16--FaceRec--1522700434.769402\n"
     ]
    },
    {
     "name": "stderr",
     "output_type": "stream",
     "text": [
      "Restoring parameters from checkpoints/c1s_9_c2n_64_rs_1_c2s_6_c2d_0.7_lr_0.0001_c2vl_32_c1n_256_c1vl_16_c1s_5_c1nf_16--FaceRec--1522700434.769402\n",
      "ModelBase::Ckpt ready\n"
     ]
    },
    {
     "name": "stdout",
     "output_type": "stream",
     "text": [
      "WARNING:tensorflow:Error encountered when serializing model_variables.\n",
      "Type is unsupported, or the types of the items don't match field type in CollectionDef.\n",
      "'Tensor' object has no attribute 'to_proto'\n"
     ]
    },
    {
     "name": "stderr",
     "output_type": "stream",
     "text": [
      "Error encountered when serializing model_variables.\n",
      "Type is unsupported, or the types of the items don't match field type in CollectionDef.\n",
      "'Tensor' object has no attribute 'to_proto'\n"
     ]
    }
   ],
   "source": [
    "model = FaceRec(\"FaceRec\", output_folder='/tmp')\n",
    "model.load(CKPT_LOCATION)"
   ]
  },
  {
   "cell_type": "code",
   "execution_count": 6,
   "metadata": {},
   "outputs": [],
   "source": [
    "people = fetch_lfw_people(color=True, min_faces_per_person=25)"
   ]
  },
  {
   "cell_type": "code",
   "execution_count": 26,
   "metadata": {},
   "outputs": [],
   "source": [
    "def downsample_images(img):\n",
    "    img = Image.fromarray(img.astype('uint8'), 'RGB')\n",
    "    img = img.resize((32,32), Image.ANTIALIAS)\n",
    "    return np.array(img)\n",
    "\n",
    "def rotate_images(img, degree=180):\n",
    "    img = img * 255\n",
    "    img = Image.fromarray(img.astype('uint8'), 'RGB')\n",
    "    img = img.rotate(degree)\n",
    "    return np.array(img)/255\n",
    "\n",
    "def blur_image(img, sigma=0.1):\n",
    "    img = img * 255\n",
    "    img = Image.fromarray(img.astype('uint8'), 'RGB')\n",
    "    img = img.filter(ImageFilter.GaussianBlur(sigma))\n",
    "    return np.array(img)/255\n",
    "\n",
    "X_faces = people.images\n",
    "Y_faces = people.target\n",
    "target_names = people.target_names\n",
    "\n",
    "X_faces = np.array([downsample_images(ab) for ab in X_faces])\n",
    "X_faces = X_faces / 255\n",
    "X_faces_rotated = np.array([rotate_images(ab) for ab in X_faces])"
   ]
  },
  {
   "cell_type": "code",
   "execution_count": 8,
   "metadata": {},
   "outputs": [],
   "source": [
    "def get_top_5_prediction(image):\n",
    "    softmax = model.predict(np.array([image]))\n",
    "    top_5 = softmax.argsort()[0][-5:][::-1]\n",
    "    top_5_names = [(target_names[i], softmax[0][i]) for i in top_5]\n",
    "    return top_5_names\n",
    "\n",
    "def print_top_5_prediction(image):\n",
    "    top_5_names = get_top_5_prediction(image)\n",
    "    print(\"\\nPredicted Names and softmax score: \")\n",
    "    for name in top_5_names:\n",
    "        print(\"%s: %s\" %(name[0], name[1]))"
   ]
  },
  {
   "cell_type": "code",
   "execution_count": 51,
   "metadata": {},
   "outputs": [
    {
     "data": {
      "text/plain": [
       "<matplotlib.image.AxesImage at 0x12e1c2470>"
      ]
     },
     "execution_count": 51,
     "metadata": {},
     "output_type": "execute_result"
    },
    {
     "data": {
      "image/png": "[encoded data removed]",
      "text/plain": [
       "<matplotlib.figure.Figure at 0x12e590860>"
      ]
     },
     "metadata": {},
     "output_type": "display_data"
    }
   ],
   "source": [
    "index = 144\n",
    "image = X_faces[index]\n",
    "plt.imshow(image)"
   ]
  },
  {
   "cell_type": "code",
   "execution_count": 58,
   "metadata": {},
   "outputs": [
    {
     "data": {
      "text/plain": [
       "[('Jennifer Capriati', 0.029991947),\n",
       " ('Laura Bush', 0.027784284),\n",
       " ('Guillermo Coria', 0.027079802),\n",
       " ('Gerhard Schroeder', 0.0268241),\n",
       " ('Arnold Schwarzenegger', 0.02634984)]"
      ]
     },
     "execution_count": 58,
     "metadata": {},
     "output_type": "execute_result"
    }
   ],
   "source": [
    "get_top_5_prediction(image)"
   ]
  },
  {
   "cell_type": "code",
   "execution_count": 57,
   "metadata": {},
   "outputs": [
    {
     "data": {
      "text/plain": [
       "'Guillermo Coria'"
      ]
     },
     "execution_count": 57,
     "metadata": {},
     "output_type": "execute_result"
    }
   ],
   "source": [
    "target_names[Y_faces[index]]"
   ]
  },
  {
   "cell_type": "code",
   "execution_count": 12,
   "metadata": {
    "scrolled": true
   },
   "outputs": [
    {
     "data": {
      "text/plain": [
       "<matplotlib.image.AxesImage at 0x12e2127f0>"
      ]
     },
     "execution_count": 12,
     "metadata": {},
     "output_type": "execute_result"
    },
    {
     "data": {
      "image/png": "[encoded data removed]",
      "text/plain": [
       "<matplotlib.figure.Figure at 0x12e166e48>"
      ]
     },
     "metadata": {},
     "output_type": "display_data"
    }
   ],
   "source": [
    "image_rotated = rotate_images(image)\n",
    "plt.imshow(image_rotated)"
   ]
  },
  {
   "cell_type": "code",
   "execution_count": 56,
   "metadata": {},
   "outputs": [
    {
     "data": {
      "text/plain": [
       "<matplotlib.image.AxesImage at 0x1302cf7b8>"
      ]
     },
     "execution_count": 56,
     "metadata": {},
     "output_type": "execute_result"
    },
    {
     "data": {
      "image/png": "[encoded data removed]",
      "text/plain": [
       "<matplotlib.figure.Figure at 0x12e4f9e10>"
      ]
     },
     "metadata": {},
     "output_type": "display_data"
    }
   ],
   "source": [
    "image_blurred = blur_image(image,3)\n",
    "plt.imshow(image_blurred)"
   ]
  },
  {
   "cell_type": "code",
   "execution_count": 34,
   "metadata": {},
   "outputs": [],
   "source": [
    "from data_handler import get_face_data\n",
    "\n",
    "x_train, y_train, x_test, y_test = get_face_data()\n",
    "x_test = x_test / 255\n",
    "x_train = x_train / 255"
   ]
  },
  {
   "cell_type": "code",
   "execution_count": 58,
   "metadata": {},
   "outputs": [],
   "source": [
    "def get_loss_acc_for_rotated_images(degree):\n",
    "    x_rotated_test = np.array([rotate_images(ab, degree) for ab in x_test])\n",
    "    loss, acc, _ = model.evaluate_dataset(x_rotated_test, y_test)\n",
    "    print(\"Rotated Test dataset (%s degrees), loss = %s, acc = %s\" % (degree, loss, acc))\n",
    "    return loss, acc\n"
   ]
  },
  {
   "cell_type": "code",
   "execution_count": 39,
   "metadata": {},
   "outputs": [],
   "source": [
    "def get_loss_acc_for_blurred_images(sigma):\n",
    "    x_blurred_test = np.array([blur_image(ab, sigma) for ab in x_test])\n",
    "    loss, acc, _ = model.evaluate_dataset(x_blurred_test, y_test)\n",
    "    print(\"Blurred Test dataset (%s sigma), loss = %s, acc = %s\" % (sigma, loss, acc))\n",
    "    return loss, acc"
   ]
  },
  {
   "cell_type": "code",
   "execution_count": 59,
   "metadata": {},
   "outputs": [
    {
     "name": "stdout",
     "output_type": "stream",
     "text": [
      "Rotated Test dataset (180 degrees), loss = 0.8253456, acc = 0.052941176470588235\n"
     ]
    }
   ],
   "source": [
    "loss, acc = get_loss_acc_for_rotated_images(180)"
   ]
  },
  {
   "cell_type": "code",
   "execution_count": 61,
   "metadata": {},
   "outputs": [
    {
     "name": "stdout",
     "output_type": "stream",
     "text": [
      "Rotated Test dataset (10 degrees), loss = 0.2792917, acc = 0.7803921568627451\n"
     ]
    }
   ],
   "source": [
    "loss, acc = get_loss_acc_for_rotated_images(10)"
   ]
  },
  {
   "cell_type": "code",
   "execution_count": 45,
   "metadata": {},
   "outputs": [
    {
     "name": "stdout",
     "output_type": "stream",
     "text": [
      "Blurred Test dataset (5 sigma), loss = 0.6148513, acc = 0.1588235294117647\n"
     ]
    }
   ],
   "source": [
    "loss, acc = get_loss_acc_for_blurred_images(5)"
   ]
  },
  {
   "cell_type": "code",
   "execution_count": 63,
   "metadata": {},
   "outputs": [
    {
     "name": "stdout",
     "output_type": "stream",
     "text": [
      "Rotated Test dataset (5 degrees), loss = 0.1536024, acc = 0.9313725490196079\n",
      "Rotated Test dataset (10 degrees), loss = 0.2792917, acc = 0.7803921568627451\n",
      "Rotated Test dataset (30 degrees), loss = 0.73775244, acc = 0.17647058823529413\n",
      "Rotated Test dataset (45 degrees), loss = 0.8269824, acc = 0.054901960784313725\n",
      "Rotated Test dataset (90 degrees), loss = 0.7646246, acc = 0.049019607843137254\n",
      "Rotated Test dataset (115 degrees), loss = 0.79466015, acc = 0.041176470588235294\n",
      "Rotated Test dataset (180 degrees), loss = 0.8253456, acc = 0.052941176470588235\n"
     ]
    },
    {
     "data": {
      "image/png": "[encoded data removed]",
      "text/plain": [
       "<matplotlib.figure.Figure at 0x7fbfb1980128>"
      ]
     },
     "metadata": {},
     "output_type": "display_data"
    }
   ],
   "source": [
    "degrees = [5, 10, 30, 45, 90, 115, 180]\n",
    "total_acc = []\n",
    "total_loss = []\n",
    "\n",
    "for degree in degrees:\n",
    "    loss, acc = get_loss_acc_for_rotated_images(degree)\n",
    "    total_loss.append(loss)\n",
    "    total_acc.append(acc)\n",
    "    \n",
    "plt.figure(figsize=(10,8))\n",
    "plt.title('Degrees Rotated vs. Accuracy')\n",
    "plt.xlabel('Degrees Rotated')\n",
    "plt.ylabel('Accuracy')\n",
    "plt.plot(degrees, total_acc, label='Accuracy')\n",
    "plt.plot(degrees, total_loss, label='Loss')\n",
    "plt.legend(loc='best')\n",
    "plt.show()"
   ]
  },
  {
   "cell_type": "code",
   "execution_count": 46,
   "metadata": {},
   "outputs": [
    {
     "name": "stdout",
     "output_type": "stream",
     "text": [
      "Blurred Test dataset (0.1 sigma), loss = 0.08788459, acc = 0.9372549019607843\n",
      "Blurred Test dataset (0.5 sigma), loss = 0.0929313, acc = 0.9372549019607843\n",
      "Blurred Test dataset (1 sigma), loss = 0.1345572, acc = 0.9313725490196079\n",
      "Blurred Test dataset (1.5 sigma), loss = 0.22201838, acc = 0.8627450980392157\n",
      "Blurred Test dataset (2 sigma), loss = 0.31600922, acc = 0.703921568627451\n",
      "Blurred Test dataset (2.5 sigma), loss = 0.40148932, acc = 0.5254901960784314\n",
      "Blurred Test dataset (3 sigma), loss = 0.46428537, acc = 0.39019607843137255\n",
      "Blurred Test dataset (4 sigma), loss = 0.55547607, acc = 0.24705882352941178\n",
      "Blurred Test dataset (5 sigma), loss = 0.6148513, acc = 0.1588235294117647\n",
      "Blurred Test dataset (6 sigma), loss = 0.6564907, acc = 0.11176470588235295\n"
     ]
    },
    {
     "data": {
      "image/png": "[encoded data removed]",
      "text/plain": [
       "<matplotlib.figure.Figure at 0x12e5efe48>"
      ]
     },
     "metadata": {},
     "output_type": "display_data"
    }
   ],
   "source": [
    "sigmas = [0.1, 0.5, 1, 1.5, 2, 2.5, 3, 4, 5, 6]\n",
    "total_acc = []\n",
    "total_loss = []\n",
    "\n",
    "for sigma in sigmas:\n",
    "    loss, acc = get_loss_acc_for_blurred_images(sigma)\n",
    "    total_loss.append(loss)\n",
    "    total_acc.append(acc)\n",
    "    \n",
    "plt.figure(figsize=(10,8))\n",
    "plt.title('Gaussian Blur vs. Accuracy')\n",
    "plt.xlabel('Sigma')\n",
    "plt.ylabel('Accuracy')\n",
    "plt.plot(sigmas, total_acc, label='Accuracy')\n",
    "plt.plot(sigmas, total_loss, label='Loss')\n",
    "plt.legend(loc='best')\n",
    "plt.show()"
   ]
  },
  {
   "cell_type": "code",
   "execution_count": 49,
   "metadata": {},
   "outputs": [
    {
     "name": "stdout",
     "output_type": "stream",
     "text": [
      "Sigma = 0.100000\n",
      "Sigma = 0.500000\n",
      "Sigma = 1.000000\n",
      "Sigma = 1.500000\n",
      "Sigma = 2.000000\n",
      "Sigma = 2.500000\n",
      "Sigma = 3.000000\n",
      "Sigma = 4.000000\n",
      "Sigma = 5.000000\n",
      "Sigma = 6.000000\n"
     ]
    },
    {
     "data": {
      "image/png": "[encoded data removed]",
      "text/plain": [
       "<matplotlib.figure.Figure at 0x12e004518>"
      ]
     },
     "metadata": {},
     "output_type": "display_data"
    }
   ],
   "source": [
    "for sigma in sigmas:\n",
    "    image_blurred = blur_image(image,sigma)\n",
    "    print(\"Sigma = %f\" % sigma)\n",
    "    plt.imshow(image_blurred)"
   ]
  },
  {
   "cell_type": "code",
   "execution_count": 66,
   "metadata": {},
   "outputs": [
    {
     "name": "stderr",
     "output_type": "stream",
     "text": [
      "STREAM b'IHDR' 16 13\n",
      "STREAM b'IDAT' 41 8192\n"
     ]
    }
   ],
   "source": [
    "img = Image.open('george_bush.png')"
   ]
  },
  {
   "cell_type": "code",
   "execution_count": 73,
   "metadata": {},
   "outputs": [],
   "source": [
    "image = img.convert('RGB').resize((32, 32), Image.ANTIALIAS)\n",
    "image = np.array(image) / 255"
   ]
  },
  {
   "cell_type": "code",
   "execution_count": null,
   "metadata": {},
   "outputs": [],
   "source": []
  }
 ],
 "metadata": {
  "kernelspec": {
   "display_name": "Python 3",
   "language": "python",
   "name": "python3"
  },
  "language_info": {
   "codemirror_mode": {
    "name": "ipython",
    "version": 3
   },
   "file_extension": ".py",
   "mimetype": "text/x-python",
   "name": "python",
   "nbconvert_exporter": "python",
   "pygments_lexer": "ipython3",
   "version": "3.6.0"
  }
 },
 "nbformat": 4,
 "nbformat_minor": 2
}
