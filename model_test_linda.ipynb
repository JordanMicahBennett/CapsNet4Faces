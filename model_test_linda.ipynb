{
 "cells": [
  {
   "cell_type": "code",
   "execution_count": 4,
   "metadata": {},
   "outputs": [],
   "source": [
    "from model import FaceRec\n",
    "from sklearn.datasets import fetch_lfw_people\n",
    "from PIL import Image\n",
    "import matplotlib.pyplot as plt\n",
    "import numpy as np"
   ]
  },
  {
   "cell_type": "code",
   "execution_count": 1,
   "metadata": {},
   "outputs": [],
   "source": [
    "CKPT_LOCATION = '/home/anshuman/Downloads/checkpoints/c1s_9_c2n_64_rs_1_c2s_6_c2d_0.7_lr_0.0001_c2vl_32_c1n_256_c1vl_16_c1s_5_c1nf_16--FaceRec--1522700434.769402'"
   ]
  },
  {
   "cell_type": "code",
   "execution_count": 5,
   "metadata": {},
   "outputs": [
    {
     "name": "stderr",
     "output_type": "stream",
     "text": [
      "ModelBase::Loading ckpt ...\n"
     ]
    },
    {
     "name": "stdout",
     "output_type": "stream",
     "text": [
      "WARNING:tensorflow:The saved meta_graph is possibly from an older release:\n",
      "'model_variables' collection should be of type 'byte_list', but instead is of type 'node_list'.\n"
     ]
    },
    {
     "name": "stderr",
     "output_type": "stream",
     "text": [
      "The saved meta_graph is possibly from an older release:\n",
      "'model_variables' collection should be of type 'byte_list', but instead is of type 'node_list'.\n"
     ]
    },
    {
     "name": "stdout",
     "output_type": "stream",
     "text": [
      "INFO:tensorflow:Restoring parameters from /home/anshuman/Downloads/checkpoints/c1s_9_c2n_64_rs_1_c2s_6_c2d_0.7_lr_0.0001_c2vl_32_c1n_256_c1vl_16_c1s_5_c1nf_16--FaceRec--1522700434.769402\n"
     ]
    },
    {
     "name": "stderr",
     "output_type": "stream",
     "text": [
      "Restoring parameters from /home/anshuman/Downloads/checkpoints/c1s_9_c2n_64_rs_1_c2s_6_c2d_0.7_lr_0.0001_c2vl_32_c1n_256_c1vl_16_c1s_5_c1nf_16--FaceRec--1522700434.769402\n",
      "ModelBase::Trying to load tensor params with str method\n",
      "ModelBase::Ckpt ready\n"
     ]
    },
    {
     "name": "stdout",
     "output_type": "stream",
     "text": [
      "WARNING:tensorflow:Error encountered when serializing model_variables.\n",
      "Type is unsupported, or the types of the items don't match field type in CollectionDef.\n",
      "'Tensor' object has no attribute 'to_proto'\n"
     ]
    },
    {
     "name": "stderr",
     "output_type": "stream",
     "text": [
      "Error encountered when serializing model_variables.\n",
      "Type is unsupported, or the types of the items don't match field type in CollectionDef.\n",
      "'Tensor' object has no attribute 'to_proto'\n"
     ]
    }
   ],
   "source": [
    "model = FaceRec(\"FaceRec\", output_folder='/tmp')\n",
    "model.load(CKPT_LOCATION)"
   ]
  },
  {
   "cell_type": "code",
   "execution_count": 6,
   "metadata": {},
   "outputs": [],
   "source": [
    "people = fetch_lfw_people(color=True, min_faces_per_person=25)"
   ]
  },
  {
   "cell_type": "code",
   "execution_count": 39,
   "metadata": {},
   "outputs": [],
   "source": [
    "def downsample_images(img):\n",
    "    img = Image.fromarray(img.astype('uint8'), 'RGB')\n",
    "    img = img.resize((32,32), Image.ANTIALIAS)\n",
    "    return np.array(img)\n",
    "\n",
    "def rotate_images(img, degree=180):\n",
    "    img = img * 255\n",
    "    img = Image.fromarray(img.astype('uint8'), 'RGB')\n",
    "    img = img.rotate(degree)\n",
    "    return np.array(img)/255\n",
    "\n",
    "X_faces = people.images\n",
    "Y_faces = people.target\n",
    "target_names = people.target_names\n",
    "\n",
    "X_faces = np.array([downsample_images(ab) for ab in X_faces])\n",
    "X_faces = X_faces / 255\n",
    "X_faces_rotated = np.array([rotate_images(ab) for ab in X_faces])"
   ]
  },
  {
   "cell_type": "code",
   "execution_count": 8,
   "metadata": {},
   "outputs": [],
   "source": [
    "def get_top_5_prediction(image):\n",
    "    softmax = model.predict(np.array([image]))\n",
    "    top_5 = softmax.argsort()[0][-5:][::-1]\n",
    "    top_5_names = [(target_names[i], softmax[0][i]) for i in top_5]\n",
    "    return top_5_names\n",
    "\n",
    "def print_top_5_prediction(image):\n",
    "    top_5_names = get_top_5_prediction(image)\n",
    "    print(\"\\nPredicted Names and softmax score: \")\n",
    "    for name in top_5_names:\n",
    "        print(\"%s: %s\" %(name[0], name[1]))"
   ]
  },
  {
   "cell_type": "code",
   "execution_count": 35,
   "metadata": {},
   "outputs": [
    {
     "data": {
      "text/plain": [
       "<matplotlib.image.AxesImage at 0x7fbfcc22b588>"
      ]
     },
     "execution_count": 35,
     "metadata": {},
     "output_type": "execute_result"
    },
    {
     "data": {
      "image/png": "[encoded data removed]",
      "text/plain": [
       "<matplotlib.figure.Figure at 0x7fbfcc249940>"
      ]
     },
     "metadata": {},
     "output_type": "display_data"
    }
   ],
   "source": [
    "index = 1554\n",
    "image = X_faces[index]\n",
    "plt.imshow(image)"
   ]
  },
  {
   "cell_type": "code",
   "execution_count": 36,
   "metadata": {},
   "outputs": [
    {
     "data": {
      "text/plain": [
       "[('Jacques Chirac', 0.041103154),\n",
       " ('Hans Blix', 0.025889402),\n",
       " ('Luiz Inacio Lula da Silva', 0.025523227),\n",
       " ('Tony Blair', 0.024971046),\n",
       " ('Arnold Schwarzenegger', 0.024817653)]"
      ]
     },
     "execution_count": 36,
     "metadata": {},
     "output_type": "execute_result"
    }
   ],
   "source": [
    "get_top_5_prediction(image)"
   ]
  },
  {
   "cell_type": "code",
   "execution_count": 37,
   "metadata": {},
   "outputs": [
    {
     "data": {
      "text/plain": [
       "'Jacques Chirac'"
      ]
     },
     "execution_count": 37,
     "metadata": {},
     "output_type": "execute_result"
    }
   ],
   "source": [
    "target_names[Y_faces[index]]"
   ]
  },
  {
   "cell_type": "code",
   "execution_count": 38,
   "metadata": {
    "scrolled": true
   },
   "outputs": [
    {
     "data": {
      "text/plain": [
       "<matplotlib.image.AxesImage at 0x7fbfcc1e8908>"
      ]
     },
     "execution_count": 38,
     "metadata": {},
     "output_type": "execute_result"
    },
    {
     "data": {
      "image/png": "[encoded data removed]",
      "text/plain": [
       "<matplotlib.figure.Figure at 0x7fbfcc1b9c18>"
      ]
     },
     "metadata": {},
     "output_type": "display_data"
    }
   ],
   "source": [
    "image_rotated = rotate_images(image)\n",
    "plt.imshow(image_rotated)"
   ]
  },
  {
   "cell_type": "code",
   "execution_count": 40,
   "metadata": {},
   "outputs": [],
   "source": [
    "from data_handler import get_face_data"
   ]
  },
  {
   "cell_type": "code",
   "execution_count": 44,
   "metadata": {},
   "outputs": [],
   "source": [
    "x_train, y_train, x_test, y_test = get_face_data()\n",
    "x_rotated_test = np.array([rotate_images(ab) for ab in x_test])"
   ]
  },
  {
   "cell_type": "code",
   "execution_count": 46,
   "metadata": {},
   "outputs": [],
   "source": [
    "loss, acc, _ = model.evaluate_dataset(x_rotated_test, y_test)"
   ]
  },
  {
   "cell_type": "code",
   "execution_count": 47,
   "metadata": {},
   "outputs": [
    {
     "name": "stdout",
     "output_type": "stream",
     "text": [
      "Rotated Test dataset (180), loss = 0.79608923, acc = 0.08235294117647059\n"
     ]
    }
   ],
   "source": [
    "print(\"Rotated Test dataset (180), loss = %s, acc = %s\" % (loss, acc))"
   ]
  },
  {
   "cell_type": "code",
   "execution_count": null,
   "metadata": {},
   "outputs": [],
   "source": []
  }
 ],
 "metadata": {
  "kernelspec": {
   "display_name": "Python 3",
   "language": "python",
   "name": "python3"
  },
  "language_info": {
   "codemirror_mode": {
    "name": "ipython",
    "version": 3
   },
   "file_extension": ".py",
   "mimetype": "text/x-python",
   "name": "python",
   "nbconvert_exporter": "python",
   "pygments_lexer": "ipython3",
   "version": "3.5.2"
  }
 },
 "nbformat": 4,
 "nbformat_minor": 2
}
