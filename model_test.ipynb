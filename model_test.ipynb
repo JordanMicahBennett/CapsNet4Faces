{
 "cells": [
  {
   "cell_type": "code",
   "execution_count": 1,
   "metadata": {},
   "outputs": [],
   "source": [
    "from model import FaceRec\n",
    "from sklearn.datasets import fetch_lfw_people\n",
    "from PIL import Image\n",
    "import matplotlib.pyplot as plt\n",
    "import numpy as np"
   ]
  },
  {
   "cell_type": "code",
   "execution_count": 3,
   "metadata": {},
   "outputs": [],
   "source": [
    "CKPT_LOCATION = '/home/anshuman/Downloads/checkpoints/c2d_0.7_c1n_256_rs_1_c2s_6_c1nf_16_lr_0.0001_c1s_9_c2vl_32_c1vl_16_c2n_64_c1s_5--FaceRec--1522453379.5724702'"
   ]
  },
  {
   "cell_type": "code",
   "execution_count": 4,
   "metadata": {},
   "outputs": [
    {
     "name": "stderr",
     "output_type": "stream",
     "text": [
      "ModelBase::Loading ckpt ...\n"
     ]
    },
    {
     "name": "stdout",
     "output_type": "stream",
     "text": [
      "WARNING:tensorflow:The saved meta_graph is possibly from an older release:\n",
      "'model_variables' collection should be of type 'byte_list', but instead is of type 'node_list'.\n"
     ]
    },
    {
     "name": "stderr",
     "output_type": "stream",
     "text": [
      "The saved meta_graph is possibly from an older release:\n",
      "'model_variables' collection should be of type 'byte_list', but instead is of type 'node_list'.\n"
     ]
    },
    {
     "name": "stdout",
     "output_type": "stream",
     "text": [
      "INFO:tensorflow:Restoring parameters from /home/anshuman/Downloads/checkpoints/c2d_0.7_c1n_256_rs_1_c2s_6_c1nf_16_lr_0.0001_c1s_9_c2vl_32_c1vl_16_c2n_64_c1s_5--FaceRec--1522453379.5724702\n"
     ]
    },
    {
     "name": "stderr",
     "output_type": "stream",
     "text": [
      "Restoring parameters from /home/anshuman/Downloads/checkpoints/c2d_0.7_c1n_256_rs_1_c2s_6_c1nf_16_lr_0.0001_c1s_9_c2vl_32_c1vl_16_c2n_64_c1s_5--FaceRec--1522453379.5724702\n",
      "ModelBase::Trying to load tensor params with str method\n",
      "ModelBase::Ckpt ready\n"
     ]
    },
    {
     "name": "stdout",
     "output_type": "stream",
     "text": [
      "WARNING:tensorflow:Error encountered when serializing model_variables.\n",
      "Type is unsupported, or the types of the items don't match field type in CollectionDef.\n",
      "'Tensor' object has no attribute 'to_proto'\n"
     ]
    },
    {
     "name": "stderr",
     "output_type": "stream",
     "text": [
      "Error encountered when serializing model_variables.\n",
      "Type is unsupported, or the types of the items don't match field type in CollectionDef.\n",
      "'Tensor' object has no attribute 'to_proto'\n"
     ]
    }
   ],
   "source": [
    "model = FaceRec(\"FaceRec\", output_folder='/tmp')\n",
    "model.load(CKPT_LOCATION)"
   ]
  },
  {
   "cell_type": "code",
   "execution_count": 5,
   "metadata": {},
   "outputs": [],
   "source": [
    "people = fetch_lfw_people(color=True, min_faces_per_person=10)"
   ]
  },
  {
   "cell_type": "code",
   "execution_count": 11,
   "metadata": {},
   "outputs": [],
   "source": [
    "def downsample_images(img):\n",
    "    img = Image.fromarray(img.astype('uint8'), 'RGB')\n",
    "    img = img.resize((32,32), Image.ANTIALIAS)\n",
    "    return np.array(img)\n",
    "\n",
    "def rotate_images(img, degree=180):\n",
    "    img = img * 255\n",
    "    img = Image.fromarray(img.astype('uint8'), 'RGB')\n",
    "    img = img.rotate(degree)\n",
    "    return np.array(img)/255\n",
    "\n",
    "X_faces = people.images\n",
    "Y_faces = people.target\n",
    "target_names = people.target_names\n",
    "\n",
    "X_faces = np.array([downsample_images(ab) for ab in X_faces])\n",
    "X_faces = X_faces / 255"
   ]
  },
  {
   "cell_type": "code",
   "execution_count": 7,
   "metadata": {},
   "outputs": [],
   "source": [
    "def get_top_5_prediction(image):\n",
    "    softmax = model.predict(np.array([image]))\n",
    "    top_5 = softmax.argsort()[0][-5:][::-1]\n",
    "    top_5_names = [(target_names[i], softmax[0][i]) for i in top_5]\n",
    "    return top_5_names\n",
    "\n",
    "def print_top_5_prediction(image):\n",
    "    top_5_names = get_top_5_prediction(image)\n",
    "    print(\"\\nPredicted Names and softmax score: \")\n",
    "    for name in top_5_names:\n",
    "        print(\"%s: %s\" %(name[0], name[1]))"
   ]
  },
  {
   "cell_type": "code",
   "execution_count": 27,
   "metadata": {},
   "outputs": [
    {
     "data": {
      "text/plain": [
       "<matplotlib.image.AxesImage at 0x7f4328bd4278>"
      ]
     },
     "execution_count": 27,
     "metadata": {},
     "output_type": "execute_result"
    },
    {
     "data": {
      "image/png": "[encoded data removed]",
      "text/plain": [
       "<matplotlib.figure.Figure at 0x7f4328c1da58>"
      ]
     },
     "metadata": {},
     "output_type": "display_data"
    }
   ],
   "source": [
    "index = 789\n",
    "image = X_faces[index]\n",
    "plt.imshow(image)"
   ]
  },
  {
   "cell_type": "code",
   "execution_count": 30,
   "metadata": {},
   "outputs": [
    {
     "data": {
      "text/plain": [
       "[('Kofi Annan', 0.013577576),\n",
       " ('Colin Powell', 0.007091102),\n",
       " ('Gordon Brown', 0.006623291),\n",
       " ('Paul Wolfowitz', 0.006596255),\n",
       " ('George W Bush', 0.0065621864)]"
      ]
     },
     "execution_count": 30,
     "metadata": {},
     "output_type": "execute_result"
    }
   ],
   "source": [
    "get_top_5_prediction(image)"
   ]
  },
  {
   "cell_type": "code",
   "execution_count": 31,
   "metadata": {},
   "outputs": [
    {
     "data": {
      "text/plain": [
       "'Kofi Annan'"
      ]
     },
     "execution_count": 31,
     "metadata": {},
     "output_type": "execute_result"
    }
   ],
   "source": [
    "target_names[Y_faces[index]]"
   ]
  },
  {
   "cell_type": "code",
   "execution_count": 28,
   "metadata": {},
   "outputs": [
    {
     "data": {
      "text/plain": [
       "<matplotlib.image.AxesImage at 0x7f4328bf4550>"
      ]
     },
     "execution_count": 28,
     "metadata": {},
     "output_type": "execute_result"
    },
    {
     "data": {
      "image/png": "[encoded data removed]",
      "text/plain": [
       "<matplotlib.figure.Figure at 0x7f4328c48588>"
      ]
     },
     "metadata": {},
     "output_type": "display_data"
    }
   ],
   "source": [
    "image_rotated = rotate_images(image)\n",
    "plt.imshow(image_rotated)"
   ]
  },
  {
   "cell_type": "code",
   "execution_count": 29,
   "metadata": {},
   "outputs": [
    {
     "data": {
      "text/plain": [
       "[('Ariel Sharon', 0.008331074),\n",
       " ('Vicente Fox', 0.008216689),\n",
       " ('Colin Powell', 0.0076630595),\n",
       " ('Kofi Annan', 0.007523494),\n",
       " ('Trent Lott', 0.0075001176)]"
      ]
     },
     "execution_count": 29,
     "metadata": {},
     "output_type": "execute_result"
    }
   ],
   "source": [
    "get_top_5_prediction(image_rotated)"
   ]
  },
  {
   "cell_type": "code",
   "execution_count": null,
   "metadata": {},
   "outputs": [],
   "source": []
  }
 ],
 "metadata": {
  "kernelspec": {
   "display_name": "Python 3",
   "language": "python",
   "name": "python3"
  },
  "language_info": {
   "codemirror_mode": {
    "name": "ipython",
    "version": 3
   },
   "file_extension": ".py",
   "mimetype": "text/x-python",
   "name": "python",
   "nbconvert_exporter": "python",
   "pygments_lexer": "ipython3",
   "version": "3.5.2"
  }
 },
 "nbformat": 4,
 "nbformat_minor": 2
}
